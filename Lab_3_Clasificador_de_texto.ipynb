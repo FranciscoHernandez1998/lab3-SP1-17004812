{
  "nbformat": 4,
  "nbformat_minor": 0,
  "metadata": {
    "colab": {
      "name": "Lab 3 - Clasificador de texto.ipynb",
      "provenance": [],
      "authorship_tag": "ABX9TyNQPc/edVGwc4C4j9zV6B2I",
      "include_colab_link": true
    },
    "kernelspec": {
      "name": "python3",
      "display_name": "Python 3"
    }
  },
  "cells": [
    {
      "cell_type": "markdown",
      "metadata": {
        "id": "view-in-github",
        "colab_type": "text"
      },
      "source": [
        "<a href=\"https://colab.research.google.com/github/FranciscoHernandez1998/lab3-SP1-17004812/blob/master/Lab_3_Clasificador_de_texto.ipynb\" target=\"_parent\"><img src=\"https://colab.research.google.com/assets/colab-badge.svg\" alt=\"Open In Colab\"/></a>"
      ]
    },
    {
      "cell_type": "code",
      "metadata": {
        "id": "l60WNZr1tk8-",
        "colab_type": "code",
        "colab": {
          "base_uri": "https://localhost:8080/",
          "height": 36
        },
        "outputId": "30c1d335-e463-4ea8-f316-b5f0227a942b"
      },
      "source": [
        "#Clasificador de reviews de peliculas en Positiva o negativa\n",
        "#Clasificacion binaria o de dos clases, \n",
        "#Transfer learning con keras\n",
        "#Dataset de imdb con 50,000 reviews, 25,000 para training y 25,000 para testing\n",
        "#Mismo numero de reviews positivas y negativas\n",
        "%tensorflow_version 2.x\n",
        "from __future__ import absolute_import, division, print_function, unicode_literals\n",
        "import numpy as np\n",
        "import tensorflow as tf\n",
        "\n",
        "!pip install -q tensorflow-hub\n",
        "!pip install -q tfds-nightly\n",
        "import tensorflow_hub as hub\n",
        "import tensorflow_datasets as tfds\n",
        "\n",
        "#imdb dataset\n",
        "#Set dividido en 60% y 40%, 15,000 para training, 10,000 para validacion y 25,000 para testing\n",
        "train_data, validation_data, test_data = tfds.load(\n",
        "    name=\"imdb_reviews\", \n",
        "    split=('train[:60%]', 'train[60%:]', 'test'),\n",
        "    as_supervised=True)\n"
      ],
      "execution_count": 1,
      "outputs": [
        {
          "output_type": "stream",
          "text": [
            "TensorFlow 2.x selected.\n"
          ],
          "name": "stdout"
        }
      ]
    },
    {
      "cell_type": "code",
      "metadata": {
        "id": "694u68wexiR9",
        "colab_type": "code",
        "colab": {
          "base_uri": "https://localhost:8080/",
          "height": 259
        },
        "outputId": "76ee20b5-b9b9-4cac-9672-a31b4ec49b63"
      },
      "source": [
        "#el formato de los datos es, la oracion que describe a la pelicula, y una etiqueta\n",
        "#correspondiente a 0 o 1, Los primeros 10 ejemplos son\n",
        "train_examples_batch, train_labels_batch = next(iter(train_data.batch(10)))\n",
        "train_examples_batch"
      ],
      "execution_count": 2,
      "outputs": [
        {
          "output_type": "execute_result",
          "data": {
            "text/plain": [
              "<tf.Tensor: shape=(10,), dtype=string, numpy=\n",
              "array([b\"This was an absolutely terrible movie. Don't be lured in by Christopher Walken or Michael Ironside. Both are great actors, but this must simply be their worst role in history. Even their great acting could not redeem this movie's ridiculous storyline. This movie is an early nineties US propaganda piece. The most pathetic scenes were those when the Columbian rebels were making their cases for revolutions. Maria Conchita Alonso appeared phony, and her pseudo-love affair with Walken was nothing but a pathetic emotional plug in a movie that was devoid of any real meaning. I am disappointed that there are movies like this, ruining actor's like Christopher Walken's good name. I could barely sit through it.\",\n",
              "       b'I have been known to fall asleep during films, but this is usually due to a combination of things including, really tired, being warm and comfortable on the sette and having just eaten a lot. However on this occasion I fell asleep because the film was rubbish. The plot development was constant. Constantly slow and boring. Things seemed to happen, but with no explanation of what was causing them or why. I admit, I may have missed part of the film, but i watched the majority of it and everything just seemed to happen of its own accord without any real concern for anything else. I cant recommend this film at all.',\n",
              "       b'Mann photographs the Alberta Rocky Mountains in a superb fashion, and Jimmy Stewart and Walter Brennan give enjoyable performances as they always seem to do. <br /><br />But come on Hollywood - a Mountie telling the people of Dawson City, Yukon to elect themselves a marshal (yes a marshal!) and to enforce the law themselves, then gunfighters battling it out on the streets for control of the town? <br /><br />Nothing even remotely resembling that happened on the Canadian side of the border during the Klondike gold rush. Mr. Mann and company appear to have mistaken Dawson City for Deadwood, the Canadian North for the American Wild West.<br /><br />Canadian viewers be prepared for a Reefer Madness type of enjoyable howl with this ludicrous plot, or, to shake your head in disgust.',\n",
              "       b'This is the kind of film for a snowy Sunday afternoon when the rest of the world can go ahead with its own business as you descend into a big arm-chair and mellow for a couple of hours. Wonderful performances from Cher and Nicolas Cage (as always) gently row the plot along. There are no rapids to cross, no dangerous waters, just a warm and witty paddle through New York life at its best. A family film in every sense and one that deserves the praise it received.',\n",
              "       b'As others have mentioned, all the women that go nude in this film are mostly absolutely gorgeous. The plot very ably shows the hypocrisy of the female libido. When men are around they want to be pursued, but when no \"men\" are around, they become the pursuers of a 14 year old boy. And the boy becomes a man really fast (we should all be so lucky at this age!). He then gets up the courage to pursue his true love.',\n",
              "       b\"This is a film which should be seen by anybody interested in, effected by, or suffering from an eating disorder. It is an amazingly accurate and sensitive portrayal of bulimia in a teenage girl, its causes and its symptoms. The girl is played by one of the most brilliant young actresses working in cinema today, Alison Lohman, who was later so spectacular in 'Where the Truth Lies'. I would recommend that this film be shown in all schools, as you will never see a better on this subject. Alison Lohman is absolutely outstanding, and one marvels at her ability to convey the anguish of a girl suffering from this compulsive disorder. If barometers tell us the air pressure, Alison Lohman tells us the emotional pressure with the same degree of accuracy. Her emotional range is so precise, each scene could be measured microscopically for its gradations of trauma, on a scale of rising hysteria and desperation which reaches unbearable intensity. Mare Winningham is the perfect choice to play her mother, and does so with immense sympathy and a range of emotions just as finely tuned as Lohman's. Together, they make a pair of sensitive emotional oscillators vibrating in resonance with one another. This film is really an astonishing achievement, and director Katt Shea should be proud of it. The only reason for not seeing it is if you are not interested in people. But even if you like nature films best, this is after all animal behaviour at the sharp edge. Bulimia is an extreme version of how a tormented soul can destroy her own body in a frenzy of despair. And if we don't sympathise with people suffering from the depths of despair, then we are dead inside.\",\n",
              "       b'Okay, you have:<br /><br />Penelope Keith as Miss Herringbone-Tweed, B.B.E. (Backbone of England.) She\\'s killed off in the first scene - that\\'s right, folks; this show has no backbone!<br /><br />Peter O\\'Toole as Ol\\' Colonel Cricket from The First War and now the emblazered Lord of the Manor.<br /><br />Joanna Lumley as the ensweatered Lady of the Manor, 20 years younger than the colonel and 20 years past her own prime but still glamourous (Brit spelling, not mine) enough to have a toy-boy on the side. It\\'s alright, they have Col. Cricket\\'s full knowledge and consent (they guy even comes \\'round for Christmas!) Still, she\\'s considerate of the colonel enough to have said toy-boy her own age (what a gal!)<br /><br />David McCallum as said toy-boy, equally as pointlessly glamourous as his squeeze. Pilcher couldn\\'t come up with any cover for him within the story, so she gave him a hush-hush job at the Circus.<br /><br />and finally:<br /><br />Susan Hampshire as Miss Polonia Teacups, Venerable Headmistress of the Venerable Girls\\' Boarding-School, serving tea in her office with a dash of deep, poignant advice for life in the outside world just before graduation. Her best bit of advice: \"I\\'ve only been to Nancherrow (the local Stately Home of England) once. I thought it was very beautiful but, somehow, not part of the real world.\" Well, we can\\'t say they didn\\'t warn us.<br /><br />Ah, Susan - time was, your character would have been running the whole show. They don\\'t write \\'em like that any more. Our loss, not yours.<br /><br />So - with a cast and setting like this, you have the re-makings of \"Brideshead Revisited,\" right?<br /><br />Wrong! They took these 1-dimensional supporting roles because they paid so well. After all, acting is one of the oldest temp-jobs there is (YOU name another!)<br /><br />First warning sign: lots and lots of backlighting. They get around it by shooting outdoors - \"hey, it\\'s just the sunlight!\"<br /><br />Second warning sign: Leading Lady cries a lot. When not crying, her eyes are moist. That\\'s the law of romance novels: Leading Lady is \"dewy-eyed.\"<br /><br />Henceforth, Leading Lady shall be known as L.L.<br /><br />Third warning sign: L.L. actually has stars in her eyes when she\\'s in love. Still, I\\'ll give Emily Mortimer an award just for having to act with that spotlight in her eyes (I wonder . did they use contacts?)<br /><br />And lastly, fourth warning sign: no on-screen female character is \"Mrs.\" She\\'s either \"Miss\" or \"Lady.\"<br /><br />When all was said and done, I still couldn\\'t tell you who was pursuing whom and why. I couldn\\'t even tell you what was said and done.<br /><br />To sum up: they all live through World War II without anything happening to them at all.<br /><br />OK, at the end, L.L. finds she\\'s lost her parents to the Japanese prison camps and baby sis comes home catatonic. Meanwhile (there\\'s always a \"meanwhile,\") some young guy L.L. had a crush on (when, I don\\'t know) comes home from some wartime tough spot and is found living on the street by Lady of the Manor (must be some street if SHE\\'s going to find him there.) Both war casualties are whisked away to recover at Nancherrow (SOMEBODY has to be \"whisked away\" SOMEWHERE in these romance stories!)<br /><br />Great drama.',\n",
              "       b'The film is based on a genuine 1950s novel.<br /><br />Journalist Colin McInnes wrote a set of three \"London novels\": \"Absolute Beginners\", \"City of Spades\" and \"Mr Love and Justice\". I have read all three. The first two are excellent. The last, perhaps an experiment that did not come off. But McInnes\\'s work is highly acclaimed; and rightly so. This musical is the novelist\\'s ultimate nightmare - to see the fruits of one\\'s mind being turned into a glitzy, badly-acted, soporific one-dimensional apology of a film that says it captures the spirit of 1950s London, and does nothing of the sort.<br /><br />Thank goodness Colin McInnes wasn\\'t alive to witness it.',\n",
              "       b'I really love the sexy action and sci-fi films of the sixties and its because of the actress\\'s that appeared in them. They found the sexiest women to be in these films and it didn\\'t matter if they could act (Remember \"Candy\"?). The reason I was disappointed by this film was because it wasn\\'t nostalgic enough. The story here has a European sci-fi film called \"Dragonfly\" being made and the director is fired. So the producers decide to let a young aspiring filmmaker (Jeremy Davies) to complete the picture. They\\'re is one real beautiful woman in the film who plays Dragonfly but she\\'s barely in it. Film is written and directed by Roman Coppola who uses some of his fathers exploits from his early days and puts it into the script. I wish the film could have been an homage to those early films. They could have lots of cameos by actors who appeared in them. There is one actor in this film who was popular from the sixties and its John Phillip Law (Barbarella). Gerard Depardieu, Giancarlo Giannini and Dean Stockwell appear as well. I guess I\\'m going to have to continue waiting for a director to make a good homage to the films of the sixties. If any are reading this, \"Make it as sexy as you can\"! I\\'ll be waiting!',\n",
              "       b'Sure, this one isn\\'t really a blockbuster, nor does it target such a position. \"Dieter\" is the first name of a quite popular German musician, who is either loved or hated for his kind of acting and thats exactly what this movie is about. It is based on the autobiography \"Dieter Bohlen\" wrote a few years ago but isn\\'t meant to be accurate on that. The movie is filled with some sexual offensive content (at least for American standard) which is either amusing (not for the other \"actors\" of course) or dumb - it depends on your individual kind of humor or on you being a \"Bohlen\"-Fan or not. Technically speaking there isn\\'t much to criticize. Speaking of me I find this movie to be an OK-movie.'],\n",
              "      dtype=object)>"
            ]
          },
          "metadata": {
            "tags": []
          },
          "execution_count": 2
        }
      ]
    },
    {
      "cell_type": "code",
      "metadata": {
        "id": "GPPFEoobxvEg",
        "colab_type": "code",
        "colab": {
          "base_uri": "https://localhost:8080/",
          "height": 36
        },
        "outputId": "add5758c-882f-4f57-8426-0a27b6ad60a7"
      },
      "source": [
        "#Las primeras 10 labels son\n",
        "train_labels_batch"
      ],
      "execution_count": 3,
      "outputs": [
        {
          "output_type": "execute_result",
          "data": {
            "text/plain": [
              "<tf.Tensor: shape=(10,), dtype=int64, numpy=array([0, 0, 0, 1, 1, 1, 0, 0, 0, 0])>"
            ]
          },
          "metadata": {
            "tags": []
          },
          "execution_count": 3
        }
      ]
    },
    {
      "cell_type": "code",
      "metadata": {
        "id": "4soorFpiyY2q",
        "colab_type": "code",
        "colab": {
          "base_uri": "https://localhost:8080/",
          "height": 276
        },
        "outputId": "c34975ae-7416-499f-9ae8-c36a9546dfdc"
      },
      "source": [
        "#La red neural se crea con un stack de capas, existen tres decisiones importantes\n",
        "\n",
        "#Como representar el texto ?\n",
        "#Cuantas capas utilizar para el modelo ?\n",
        "#Cuantas unidades usar para cada capa ?\n",
        "\n",
        "#Una forma comunmente utilizada es la representacion de oraciones como \"Embedding vectors\"\n",
        "#Es decir vincular las palabras o frases a vectores, y esto nos proporciona 3 ventajas\n",
        "\n",
        "#Ya no nos preocuparemos del preprocesamiento de texto\n",
        "#Nos beneficiamos con transfer learning\n",
        "#Los vectores tienen un tamaño fijo, por lo que es mas sencillo de procesar\n",
        "\n",
        "#El modelo de encapsulacion de texto previamente entrenado a utilizar  para \n",
        "#tensorflow/hub (libreria para transfer learning para reutilizar partes de modelos de TF)\n",
        "#es \"google/tf2-preview/gnews-swivel-20dim/1\"\n",
        "\n",
        "#Creando la capa Keras que usa el modelo de TensorFlow Hub para encapsular las oraciones:\n",
        "embedding = \"https://tfhub.dev/google/tf2-preview/gnews-swivel-20dim/1\"\n",
        "hub_layer = hub.KerasLayer(embedding, input_shape=[], \n",
        "                           dtype=tf.string, trainable=True)\n",
        "\n",
        "#test con un input:\n",
        "hub_layer(train_examples_batch[:3])\n",
        "#Sin importar el tamaño de la oracion de entrada, la salida tiene la forma:\n",
        "#(num_examples, embedding_dimension)\n"
      ],
      "execution_count": 17,
      "outputs": [
        {
          "output_type": "execute_result",
          "data": {
            "text/plain": [
              "<tf.Tensor: shape=(3, 20), dtype=float32, numpy=\n",
              "array([[ 1.765786  , -3.882232  ,  3.9134233 , -1.5557289 , -3.3362343 ,\n",
              "        -1.7357955 , -1.9954445 ,  1.2989551 ,  5.081598  , -1.1041286 ,\n",
              "        -2.0503852 , -0.72675157, -0.65675956,  0.24436149, -3.7208383 ,\n",
              "         2.0954835 ,  2.2969332 , -2.0689783 , -2.9489717 , -1.1315987 ],\n",
              "       [ 1.8804485 , -2.5852382 ,  3.4066997 ,  1.0982676 , -4.056685  ,\n",
              "        -4.891284  , -2.785554  ,  1.3874227 ,  3.8476458 , -0.9256538 ,\n",
              "        -1.896706  ,  1.2113281 ,  0.11474707,  0.76209456, -4.8791065 ,\n",
              "         2.906149  ,  4.7087674 , -2.3652055 , -3.5015898 , -1.6390051 ],\n",
              "       [ 0.71152234, -0.6353217 ,  1.7385626 , -1.1168286 , -0.5451594 ,\n",
              "        -1.1808156 ,  0.09504455,  1.4653089 ,  0.66059524,  0.79308075,\n",
              "        -2.2268345 ,  0.07446612, -1.4075904 , -0.70645386, -1.907037  ,\n",
              "         1.4419787 ,  1.9551861 , -0.42660055, -2.8022065 ,  0.43727064]],\n",
              "      dtype=float32)>"
            ]
          },
          "metadata": {
            "tags": []
          },
          "execution_count": 17
        }
      ]
    },
    {
      "cell_type": "code",
      "metadata": {
        "id": "h4ZFjcd03hEk",
        "colab_type": "code",
        "colab": {
          "base_uri": "https://localhost:8080/",
          "height": 276
        },
        "outputId": "2205189f-fe8d-4970-f202-01872ea43319"
      },
      "source": [
        "#Construyendo el modelo para la red neural\n",
        "\n",
        "#Primera capa: Modelo pre-entrenado de TF Hub, que mapea una oracion a un \"embedding vector\"\n",
        "#en este caso el modelo es google/tf2-preview/gnews-swivel-20dim/1, que particiona la oracion en tokens\n",
        "#los encapsula y los une, las dimensiones resultantes son: (num_examples, embedding_dimension)\n",
        "\n",
        "#Posteriormente el vector pasa por una capa totalmente conectada(Dense) con 16 neuronas\n",
        "\n",
        "#La ultima capa esta conectada con un solo nodo output, el cual usa la funcion de activacion\n",
        "#Sigmoid, y devuelve un float entre 0 y 1 para representar una probabilidad o nivel de confianza\n",
        "model = tf.keras.Sequential()\n",
        "model.add(hub_layer)\n",
        "model.add(tf.keras.layers.Dense(16, activation='relu'))\n",
        "model.add(tf.keras.layers.Dense(1, activation='sigmoid'))\n",
        "model.summary()\n",
        "\n"
      ],
      "execution_count": 18,
      "outputs": [
        {
          "output_type": "stream",
          "text": [
            "Model: \"sequential_3\"\n",
            "_________________________________________________________________\n",
            "Layer (type)                 Output Shape              Param #   \n",
            "=================================================================\n",
            "keras_layer_1 (KerasLayer)   (None, 20)                400020    \n",
            "_________________________________________________________________\n",
            "dense_6 (Dense)              (None, 16)                336       \n",
            "_________________________________________________________________\n",
            "dense_7 (Dense)              (None, 1)                 17        \n",
            "=================================================================\n",
            "Total params: 400,373\n",
            "Trainable params: 400,373\n",
            "Non-trainable params: 0\n",
            "_________________________________________________________________\n"
          ],
          "name": "stdout"
        }
      ]
    },
    {
      "cell_type": "code",
      "metadata": {
        "id": "GcTjjS0M5C72",
        "colab_type": "code",
        "colab": {}
      },
      "source": [
        "#La funcion Loss a utilizar sera binary_crossentropy , debido a que es un clasificador binario\n",
        "#y el modelo nos devuelve una probabilidad. binary_crossentropy es el que mejor lidia con probabilidades.\n",
        "model.compile(optimizer='adam',\n",
        "              loss='binary_crossentropy',\n",
        "              metrics=['accuracy'])"
      ],
      "execution_count": 0,
      "outputs": []
    },
    {
      "cell_type": "code",
      "metadata": {
        "id": "S_JHdYFN9XE8",
        "colab_type": "code",
        "colab": {
          "base_uri": "https://localhost:8080/",
          "height": 758
        },
        "outputId": "2bd978ce-0151-408a-8a0b-7ebfdc9ab2df"
      },
      "source": [
        "#El modelo se entrenara por 20 epochs, en batches de 512 ejemplos. Estas son 20 iteraciones sobre\n",
        "#todos los datos, en los tensores x_train y y_train. \n",
        "history = model.fit(train_data.shuffle(10000).batch(512),\n",
        "                    epochs=20,\n",
        "                    validation_data=validation_data.batch(512),\n",
        "                    verbose=1)\n"
      ],
      "execution_count": 20,
      "outputs": [
        {
          "output_type": "stream",
          "text": [
            "Epoch 1/20\n",
            "30/30 [==============================] - 6s 216ms/step - loss: 0.9039 - accuracy: 0.4348 - val_loss: 0.7911 - val_accuracy: 0.4759\n",
            "Epoch 2/20\n",
            "30/30 [==============================] - 6s 194ms/step - loss: 0.7264 - accuracy: 0.5316 - val_loss: 0.6777 - val_accuracy: 0.5829\n",
            "Epoch 3/20\n",
            "30/30 [==============================] - 6s 216ms/step - loss: 0.6399 - accuracy: 0.6329 - val_loss: 0.6163 - val_accuracy: 0.6704\n",
            "Epoch 4/20\n",
            "30/30 [==============================] - 6s 207ms/step - loss: 0.5843 - accuracy: 0.7005 - val_loss: 0.5712 - val_accuracy: 0.7194\n",
            "Epoch 5/20\n",
            "30/30 [==============================] - 6s 201ms/step - loss: 0.5396 - accuracy: 0.7428 - val_loss: 0.5307 - val_accuracy: 0.7509\n",
            "Epoch 6/20\n",
            "30/30 [==============================] - 6s 203ms/step - loss: 0.4966 - accuracy: 0.7757 - val_loss: 0.4953 - val_accuracy: 0.7736\n",
            "Epoch 7/20\n",
            "30/30 [==============================] - 6s 206ms/step - loss: 0.4577 - accuracy: 0.8008 - val_loss: 0.4627 - val_accuracy: 0.7951\n",
            "Epoch 8/20\n",
            "30/30 [==============================] - 6s 202ms/step - loss: 0.4215 - accuracy: 0.8245 - val_loss: 0.4339 - val_accuracy: 0.8123\n",
            "Epoch 9/20\n",
            "30/30 [==============================] - 6s 212ms/step - loss: 0.3880 - accuracy: 0.8419 - val_loss: 0.4085 - val_accuracy: 0.8264\n",
            "Epoch 10/20\n",
            "30/30 [==============================] - 6s 213ms/step - loss: 0.3577 - accuracy: 0.8570 - val_loss: 0.3889 - val_accuracy: 0.8324\n",
            "Epoch 11/20\n",
            "30/30 [==============================] - 6s 199ms/step - loss: 0.3309 - accuracy: 0.8674 - val_loss: 0.3704 - val_accuracy: 0.8434\n",
            "Epoch 12/20\n",
            "30/30 [==============================] - 6s 196ms/step - loss: 0.3075 - accuracy: 0.8797 - val_loss: 0.3551 - val_accuracy: 0.8497\n",
            "Epoch 13/20\n",
            "30/30 [==============================] - 6s 211ms/step - loss: 0.2848 - accuracy: 0.8918 - val_loss: 0.3427 - val_accuracy: 0.8534\n",
            "Epoch 14/20\n",
            "30/30 [==============================] - 6s 200ms/step - loss: 0.2659 - accuracy: 0.9009 - val_loss: 0.3331 - val_accuracy: 0.8581\n",
            "Epoch 15/20\n",
            "30/30 [==============================] - 6s 204ms/step - loss: 0.2473 - accuracy: 0.9105 - val_loss: 0.3249 - val_accuracy: 0.8632\n",
            "Epoch 16/20\n",
            "30/30 [==============================] - 6s 208ms/step - loss: 0.2317 - accuracy: 0.9181 - val_loss: 0.3194 - val_accuracy: 0.8658\n",
            "Epoch 17/20\n",
            "30/30 [==============================] - 6s 210ms/step - loss: 0.2166 - accuracy: 0.9231 - val_loss: 0.3126 - val_accuracy: 0.8696\n",
            "Epoch 18/20\n",
            "30/30 [==============================] - 6s 211ms/step - loss: 0.2043 - accuracy: 0.9301 - val_loss: 0.3094 - val_accuracy: 0.8708\n",
            "Epoch 19/20\n",
            "30/30 [==============================] - 6s 212ms/step - loss: 0.1926 - accuracy: 0.9349 - val_loss: 0.3053 - val_accuracy: 0.8724\n",
            "Epoch 20/20\n",
            "30/30 [==============================] - 7s 222ms/step - loss: 0.1791 - accuracy: 0.9407 - val_loss: 0.3038 - val_accuracy: 0.8740\n"
          ],
          "name": "stdout"
        }
      ]
    },
    {
      "cell_type": "code",
      "metadata": {
        "id": "ARmsOqji-KZR",
        "colab_type": "code",
        "colab": {
          "base_uri": "https://localhost:8080/",
          "height": 54
        },
        "outputId": "4428e992-e63e-4c74-dbf0-95469509c57e"
      },
      "source": [
        "#Podemos evluar el modelo y su rendimiento, el sig. fragmento retornara los valores de Loss\n",
        "#que representa nuestroe error, y Accuracy\n",
        "results = model.evaluate(test_data.batch(512), verbose=2)\n",
        "for name, value in zip(model.metrics_names, results):\n",
        "  print(\"%s: %.3f\" % (name, value))"
      ],
      "execution_count": 21,
      "outputs": [
        {
          "output_type": "stream",
          "text": [
            "loss: 0.317\n",
            "accuracy: 0.865\n"
          ],
          "name": "stdout"
        }
      ]
    }
  ]
}